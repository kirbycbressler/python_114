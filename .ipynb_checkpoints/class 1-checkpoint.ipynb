{
 "cells": [
  {
   "cell_type": "code",
   "execution_count": null,
   "id": "30d16e35",
   "metadata": {},
   "outputs": [
    {
     "name": "stdout",
     "output_type": "stream",
     "text": [
      "h\n",
      "e\n",
      "l\n",
      "l\n",
      "o\n",
      ",\n",
      " \n",
      "w\n",
      "o\n",
      "r\n",
      "l\n",
      "d\n",
      "!\n"
     ]
    }
   ],
   "source": [
    "for letter in \"hello, world!\":\n",
    "    print(letter)"
   ]
  },
  {
   "cell_type": "markdown",
   "id": "ab06877e",
   "metadata": {},
   "source": [
    "# Problem\n",
    "### GIven two strings( string_a and string_b) lets check whether or not they are anagrams of eachother given the following criteria:\n",
    "> Two strings are onlu anagrams of eachother if all conditions below are met:\n",
    ">* They must be exactly the same length. \n",
    ">* They must exactly be the same characters (no more, no less). Example cars and scar, heart and earth, etc."
   ]
  },
  {
   "cell_type": "code",
   "execution_count": 23,
   "id": "708373c6",
   "metadata": {},
   "outputs": [
    {
     "name": "stdout",
     "output_type": "stream",
     "text": [
      "True\n"
     ]
    }
   ],
   "source": [
    "def is_anagram(string_a, string_b):\n",
    "    string_a = str(string_a.upper())\n",
    "    string_b = str(string_b.upper())\n",
    "    string_a = string_a.replace(\" \", \"\")\n",
    "    string_b = string_b.replace(\" \", \"\")\n",
    "    if len(string_a) != len(string_b):\n",
    "        return False\n",
    "    char_times_a = dict()\n",
    "    char_times_b = dict()\n",
    "    for i in range(len(string_a)):\n",
    "        if string_a[i] not in char_times_a.keys():\n",
    "            char_times_a[string_a[i]] = 0\n",
    "        else:\n",
    "            char_times_a[string_a[i]] += 1\n",
    "        if string_b[i] not in char_times_b.keys():\n",
    "            char_times_b[string_b[i]] = 0\n",
    "        else:\n",
    "            char_times_b[string_b[i]] += 1\n",
    "    return char_times_a == char_times_b\n",
    "\n",
    "print (is_anagram(\"rE4545we\", \"4545were\"))"
   ]
  },
  {
   "cell_type": "code",
   "execution_count": 53,
   "id": "e76afe76",
   "metadata": {},
   "outputs": [],
   "source": [
    "class Stack:\n",
    "    def __init__(self):\n",
    "        self.items = []\n",
    "    \n",
    "    def is_empty(self):\n",
    "        return self.items == []\n",
    "    \n",
    "    def push(self, item):\n",
    "        self.items.append(item)\n",
    "        \n",
    "    def pop(self):\n",
    "        return self.items.pop()\n",
    "    \n",
    "    def peek(self):\n",
    "        return self.items[len(self.items)-1]\n",
    "    \n",
    "    def size(self):\n",
    "        return len(self.items)\n",
    "        "
   ]
  },
  {
   "cell_type": "code",
   "execution_count": 54,
   "id": "873a5f3a",
   "metadata": {},
   "outputs": [
    {
     "name": "stdout",
     "output_type": "stream",
     "text": [
      "True\n"
     ]
    }
   ],
   "source": [
    "def reverse_str(s):\n",
    "    out = ''\n",
    "    stack = Stack()\n",
    "    for letter in s:\n",
    "        stack.push(letter)\n",
    "    while not stack.is_empty():\n",
    "        out += stack.pop()    # equivalent to: out=out+stack.pop()\n",
    "    return out\n",
    "def is_palendrome(string):\n",
    "    string = string.lower()\n",
    "    return string == reverse_str(string)\n",
    "\n",
    "print (is_palendrome('racecar'))"
   ]
  },
  {
   "cell_type": "markdown",
   "id": "5be1e071",
   "metadata": {},
   "source": [
    "# Problem 3\n",
    "### Using our stack class implement a back button so that the stack returns the last visited URL when the user requests it.\n",
    "#### First, we'll load 10 urls into the stack (to mock the data) then we'll prompt our users, asking them if they'd like the last visited url\n",
    ">On startup: load 10 urls.\n",
    ">During run time: prompt user, ask if they want the last (visited) URL."
   ]
  },
  {
   "cell_type": "code",
   "execution_count": 55,
   "id": "303efdbf",
   "metadata": {},
   "outputs": [],
   "source": [
    "urls = [\n",
    "    \"www.google.com\",\n",
    "    \"twitter.com\",\n",
    "    \"facebook.com\",\n",
    "    \"duckduckgo.com\",\n",
    "    \"sdgku.edu\",\n",
    "    \"something.com\",\n",
    "    \"example.com\",\n",
    "    \"mywebpage.com\",\n",
    "    \"gmail.com\",\n",
    "    \"hotmail.com\",\n",
    "]"
   ]
  },
  {
   "cell_type": "code",
   "execution_count": 56,
   "id": "8418cd0e",
   "metadata": {},
   "outputs": [
    {
     "ename": "UnboundLocalError",
     "evalue": "local variable 'user_input' referenced before assignment",
     "output_type": "error",
     "traceback": [
      "\u001b[0;31m---------------------------------------------------------------------------\u001b[0m",
      "\u001b[0;31mUnboundLocalError\u001b[0m                         Traceback (most recent call last)",
      "\u001b[0;32m/tmp/ipykernel_156/2967668306.py\u001b[0m in \u001b[0;36m<module>\u001b[0;34m\u001b[0m\n\u001b[1;32m     10\u001b[0m             \u001b[0mprint\u001b[0m\u001b[0;34m(\u001b[0m\u001b[0;34m\"no more!\"\u001b[0m\u001b[0;34m)\u001b[0m\u001b[0;34m\u001b[0m\u001b[0;34m\u001b[0m\u001b[0m\n\u001b[1;32m     11\u001b[0m \u001b[0;34m\u001b[0m\u001b[0m\n\u001b[0;32m---> 12\u001b[0;31m \u001b[0mgo_back\u001b[0m\u001b[0;34m(\u001b[0m\u001b[0murls\u001b[0m\u001b[0;34m)\u001b[0m\u001b[0;34m\u001b[0m\u001b[0;34m\u001b[0m\u001b[0m\n\u001b[0m\u001b[1;32m     13\u001b[0m \u001b[0;34m\u001b[0m\u001b[0m\n",
      "\u001b[0;32m/tmp/ipykernel_156/2967668306.py\u001b[0m in \u001b[0;36mgo_back\u001b[0;34m(urls)\u001b[0m\n\u001b[1;32m      3\u001b[0m     \u001b[0;32mfor\u001b[0m \u001b[0mi\u001b[0m \u001b[0;32min\u001b[0m \u001b[0murls\u001b[0m\u001b[0;34m:\u001b[0m\u001b[0;34m\u001b[0m\u001b[0;34m\u001b[0m\u001b[0m\n\u001b[1;32m      4\u001b[0m         \u001b[0mstack\u001b[0m\u001b[0;34m.\u001b[0m\u001b[0mpush\u001b[0m\u001b[0;34m(\u001b[0m\u001b[0mi\u001b[0m\u001b[0;34m)\u001b[0m\u001b[0;34m\u001b[0m\u001b[0;34m\u001b[0m\u001b[0m\n\u001b[0;32m----> 5\u001b[0;31m     \u001b[0;32mwhile\u001b[0m \u001b[0muser_input\u001b[0m \u001b[0;34m!=\u001b[0m \u001b[0;34m\"n\"\u001b[0m \u001b[0;32mand\u001b[0m \u001b[0;32mnot\u001b[0m \u001b[0mstack\u001b[0m\u001b[0;34m.\u001b[0m\u001b[0mis_empty\u001b[0m\u001b[0;34m(\u001b[0m\u001b[0;34m)\u001b[0m\u001b[0;34m:\u001b[0m\u001b[0;34m\u001b[0m\u001b[0;34m\u001b[0m\u001b[0m\n\u001b[0m\u001b[1;32m      6\u001b[0m         \u001b[0muser_input\u001b[0m \u001b[0;34m=\u001b[0m \u001b[0minput\u001b[0m \u001b[0;34m(\u001b[0m\u001b[0;34m\"would you like to go back to previous site?(y/n):\"\u001b[0m\u001b[0;34m)\u001b[0m\u001b[0;34m\u001b[0m\u001b[0;34m\u001b[0m\u001b[0m\n\u001b[1;32m      7\u001b[0m         \u001b[0;32mif\u001b[0m \u001b[0muser_input\u001b[0m \u001b[0;34m==\u001b[0m \u001b[0;34m\"y\"\u001b[0m \u001b[0;32mand\u001b[0m \u001b[0;32mnot\u001b[0m \u001b[0mstack\u001b[0m\u001b[0;34m.\u001b[0m\u001b[0mis_empty\u001b[0m\u001b[0;34m(\u001b[0m\u001b[0;34m)\u001b[0m\u001b[0;34m:\u001b[0m\u001b[0;34m\u001b[0m\u001b[0;34m\u001b[0m\u001b[0m\n",
      "\u001b[0;31mUnboundLocalError\u001b[0m: local variable 'user_input' referenced before assignment"
     ]
    }
   ],
   "source": [
    "\n",
    "def go_back(urls):\n",
    "    stack = Stack()\n",
    "    user_input = \"y\"\n",
    "    for i in urls:\n",
    "        stack.push(i)\n",
    "    while user_input != \"n\" and not stack.is_empty():\n",
    "        user_input = input (\"would you like to go back to previous site?(y/n):\")\n",
    "        if user_input == \"y\":\n",
    "            print (\"Last url is %s\" % stack.pop())\n",
    "        if stack.is_empty():\n",
    "            print(\"no more!\")\n",
    "        \n",
    "go_back(urls)\n",
    "        "
   ]
  },
  {
   "cell_type": "code",
   "execution_count": null,
   "id": "f05ede7a",
   "metadata": {},
   "outputs": [],
   "source": []
  }
 ],
 "metadata": {
  "interpreter": {
   "hash": "31f2aee4e71d21fbe5cf8b01ff0e069b9275f58929596ceb00d14d90e3e16cd6"
  },
  "kernelspec": {
   "display_name": "Python 3 (ipykernel)",
   "language": "python",
   "name": "python3"
  },
  "language_info": {
   "codemirror_mode": {
    "name": "ipython",
    "version": 3
   },
   "file_extension": ".py",
   "mimetype": "text/x-python",
   "name": "python",
   "nbconvert_exporter": "python",
   "pygments_lexer": "ipython3",
   "version": "3.8.10"
  }
 },
 "nbformat": 4,
 "nbformat_minor": 5
}
