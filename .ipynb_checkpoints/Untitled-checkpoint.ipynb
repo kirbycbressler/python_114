{
 "cells": [
  {
   "cell_type": "code",
   "execution_count": 1,
   "id": "bcf88f9e",
   "metadata": {},
   "outputs": [],
   "source": [
    "class Queue:\n",
    "    def __init__(self):\n",
    "        self.items = []\n",
    "    def is_empty(self):\n",
    "        return self.items == []\n",
    "    def enqueue(self, item):\n",
    "        self.items.insert(0, item)\n",
    "    def dequeue(self):\n",
    "        return self.items.pop()\n",
    "    def size(self):\n",
    "        return len(self.items)"
   ]
  },
  {
   "cell_type": "code",
   "execution_count": 2,
   "id": "369fe66c",
   "metadata": {},
   "outputs": [],
   "source": [
    "from string import ascii_lowercase\n",
    "from random import randint, choice\n",
    "from time import sleep\n",
    "\n",
    "def register_visitors(visitor_queue):\n",
    "    for char in ascii_lowercase: \n",
    "        visitor_queue.enqueue(char)\n",
    "        \n",
    "        \n",
    "        \n",
    "        \n",
    "        \n",
    "def service_customers(visitor_queue):\n",
    "    bank_tellers = ['A', 'B', \"C\", \"D\", \"E\", \"F\", \"G\"]\n",
    "    while not visitor_queue.is_empty():\n",
    "        visitor = visitor_queue.dequeue()\n",
    "        print(\"Thank you for waiting %s, station %s is ready for you.\"\n",
    "             % (visitor, choice(bank_tellers)))\n",
    "        sleep(randint(1,2))\n",
    "    print(\"Empty visitor queue.\")\n",
    "    \n",
    "def main():\n",
    "    visitor_queue = Queue()\n",
    "    register_visitors(visitor_queue)\n",
    "    service_customers(visitor_queue)"
   ]
  },
  {
   "cell_type": "code",
   "execution_count": 3,
   "id": "1fd7a3d9",
   "metadata": {},
   "outputs": [
    {
     "name": "stdout",
     "output_type": "stream",
     "text": [
      "Thank you for waiting a, station D is ready for you.\n",
      "Thank you for waiting b, station G is ready for you.\n",
      "Thank you for waiting c, station D is ready for you.\n",
      "Thank you for waiting d, station D is ready for you.\n",
      "Thank you for waiting e, station B is ready for you.\n",
      "Thank you for waiting f, station G is ready for you.\n",
      "Thank you for waiting g, station G is ready for you.\n",
      "Thank you for waiting h, station D is ready for you.\n",
      "Thank you for waiting i, station G is ready for you.\n",
      "Thank you for waiting j, station B is ready for you.\n",
      "Thank you for waiting k, station B is ready for you.\n",
      "Thank you for waiting l, station B is ready for you.\n",
      "Thank you for waiting m, station D is ready for you.\n",
      "Thank you for waiting n, station F is ready for you.\n",
      "Thank you for waiting o, station A is ready for you.\n",
      "Thank you for waiting p, station E is ready for you.\n",
      "Thank you for waiting q, station E is ready for you.\n",
      "Thank you for waiting r, station C is ready for you.\n",
      "Thank you for waiting s, station E is ready for you.\n",
      "Thank you for waiting t, station D is ready for you.\n",
      "Thank you for waiting u, station F is ready for you.\n",
      "Thank you for waiting v, station F is ready for you.\n",
      "Thank you for waiting w, station B is ready for you.\n",
      "Thank you for waiting x, station F is ready for you.\n",
      "Thank you for waiting y, station C is ready for you.\n",
      "Thank you for waiting z, station A is ready for you.\n",
      "Empty visitor queue.\n"
     ]
    }
   ],
   "source": [
    "main()"
   ]
  },
  {
   "cell_type": "code",
   "execution_count": 4,
   "id": "03502139",
   "metadata": {},
   "outputs": [],
   "source": [
    "def balance_check(s): #defines function \"balance_check()\" and passes 's' parameter:\n",
    "    if len(s) % 2 != 0: # conditional statement: if the length of 's' is divisible by two with a remainder...\n",
    "        return False # returns boolean 'false'\n",
    "    opening = set('([{') # creating 'opening' variable and assigning a Set of 'opening' characters.\n",
    "    matches = set([\"(\", \")\"], [\"[\", \"]\"], [\"{\",\"}\"]) # matches variable with paired values stored of opening and closing characters\n",
    "    stack = Stack() # access Stack class by assigning varable for easier calling. \n",
    "    for paren in s: # for loop that iterates through each instance of a character in 's'\n",
    "        if paren in opening: # conditional statement, checking if the character from for loop iteration is contained in the opening varable\n",
    "            stack.push(paren) # push character to stack\n",
    "        else: \n",
    "            if stack.is_empty(): # use empty() function from stack class to determine if stack is empty. \n",
    "                return False\n",
    "            last_open = stack.pop() # return the last variable in the stack\n",
    "            if (last_open, paren) not in matches: # confirm last item in stack and the \n",
    "                return False\n",
    "    return stack.is_empty()"
   ]
  },
  {
   "cell_type": "code",
   "execution_count": null,
   "id": "11112e8f",
   "metadata": {},
   "outputs": [],
   "source": []
  },
  {
   "cell_type": "code",
   "execution_count": 6,
   "id": "74264c5c",
   "metadata": {},
   "outputs": [],
   "source": [
    "class Queue2Stacks:\n",
    "    def __init__(self):\n",
    "        # Two stacks\n",
    "        self.stack1 = []\n",
    "        self.stack2 = []\n",
    "        \n",
    "    def enqueue(self, element):\n",
    "        self.stack1.append(element)\n",
    "    def dequeue(self):\n",
    "        while self.stack1:\n",
    "            self.stack2.append(self.stack1.pop())\n",
    "            return self.stack2.pop()\n",
    "    \n",
    "def test(): \n",
    "    \"\"\"this should print: 0,1,2,3,4\n",
    "    Note: It will print vertically\"\"\"\n",
    "    q = Queue2Stacks()\n",
    "    for i in range(5):\n",
    "        q.enqueue(i)\n",
    "    for i in range(5):\n",
    "        print(q.dequeue())"
   ]
  },
  {
   "cell_type": "code",
   "execution_count": 7,
   "id": "c2db23b2",
   "metadata": {},
   "outputs": [
    {
     "name": "stdout",
     "output_type": "stream",
     "text": [
      "4\n",
      "3\n",
      "2\n",
      "1\n",
      "0\n"
     ]
    }
   ],
   "source": [
    "test()"
   ]
  },
  {
   "cell_type": "code",
   "execution_count": 15,
   "id": "db7e7528",
   "metadata": {},
   "outputs": [
    {
     "data": {
      "text/plain": [
       "120"
      ]
     },
     "execution_count": 15,
     "metadata": {},
     "output_type": "execute_result"
    }
   ],
   "source": [
    "def fact(n):\n",
    "    if n==0:\n",
    "        return 1\n",
    "    return n*fact(n-1)\n",
    "fact(5)\n"
   ]
  },
  {
   "cell_type": "code",
   "execution_count": null,
   "id": "b76cd007",
   "metadata": {},
   "outputs": [],
   "source": [
    "# fact(5) -> [5*fact(4)]->[4*fact(3)]->[3*fact(2)]->[2*fact(1)]->[1*fact(0) = 1]"
   ]
  },
  {
   "cell_type": "code",
   "execution_count": 22,
   "id": "2b67966e",
   "metadata": {},
   "outputs": [
    {
     "data": {
      "text/plain": [
       "12586269025"
      ]
     },
     "execution_count": 22,
     "metadata": {},
     "output_type": "execute_result"
    }
   ],
   "source": [
    "from functools import lru_cache\n",
    "\n",
    "@lru_cache\n",
    "\n",
    "def fib(n):\n",
    "    if n<2:\n",
    "        return n\n",
    "    return fib(n-1)+fib(n-2)\n",
    "\n",
    "fib(50)"
   ]
  },
  {
   "cell_type": "code",
   "execution_count": 23,
   "id": "842dd449",
   "metadata": {},
   "outputs": [],
   "source": [
    "## big o(n) is linear "
   ]
  },
  {
   "cell_type": "code",
   "execution_count": 25,
   "id": "a16bb62d",
   "metadata": {},
   "outputs": [],
   "source": [
    "class Node:\n",
    "    def __init__(self, data):\n",
    "        self.data = data\n",
    "        self.next = None"
   ]
  },
  {
   "cell_type": "code",
   "execution_count": 33,
   "id": "5c1f179f",
   "metadata": {},
   "outputs": [
    {
     "name": "stdout",
     "output_type": "stream",
     "text": [
      "1\n",
      "1\n",
      "2\n",
      "3\n",
      "4\n",
      "5\n"
     ]
    }
   ],
   "source": [
    "mylist = [1, 2, 3, 4, 5]\n",
    "\n",
    "head = None\n",
    "\n",
    "for number in mylist:\n",
    "    if head == None:\n",
    "        head = Node(number)\n",
    "        continue\n",
    "    current = head\n",
    "    while(current.next):\n",
    "        current = current.next\n",
    "    current.next = Node(number)\n",
    "        \n",
    "current = head\n",
    "while current:\n",
    "    print(current.data)\n",
    "    current = current.next"
   ]
  }
 ],
 "metadata": {
  "kernelspec": {
   "display_name": "Python 3 (ipykernel)",
   "language": "python",
   "name": "python3"
  },
  "language_info": {
   "codemirror_mode": {
    "name": "ipython",
    "version": 3
   },
   "file_extension": ".py",
   "mimetype": "text/x-python",
   "name": "python",
   "nbconvert_exporter": "python",
   "pygments_lexer": "ipython3",
   "version": "3.8.10"
  }
 },
 "nbformat": 4,
 "nbformat_minor": 5
}
