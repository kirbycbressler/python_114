{
 "cells": [
  {
   "cell_type": "code",
   "execution_count": 1,
   "id": "bcf88f9e",
   "metadata": {},
   "outputs": [],
   "source": [
    "class Queue:\n",
    "    def __init__(self):\n",
    "        self.items = []\n",
    "    def is_empty(self):\n",
    "        return self.items == []\n",
    "    def enqueue(self, item):\n",
    "        self.items.insert(0, item)\n",
    "    def dequeue(self):\n",
    "        return self.items.pop()\n",
    "    def size(self):\n",
    "        return len(self.items)"
   ]
  },
  {
   "cell_type": "code",
   "execution_count": 2,
   "id": "369fe66c",
   "metadata": {},
   "outputs": [],
   "source": [
    "from string import ascii_lowercase\n",
    "from random import randint, choice\n",
    "from time import sleep\n",
    "\n",
    "def register_visitors(visitor_queue):\n",
    "    for char in ascii_lowercase: \n",
    "        visitor_queue.enqueue(char)\n",
    "        \n",
    "        \n",
    "        \n",
    "        \n",
    "        \n",
    "def service_customers(visitor_queue):\n",
    "    bank_tellers = ['A', 'B', \"C\", \"D\", \"E\", \"F\", \"G\"]\n",
    "    while not visitor_queue.is_empty():\n",
    "        visitor = visitor_queue.dequeue()\n",
    "        print(\"Thank you for waiting %s, station %s is ready for you.\"\n",
    "             % (visitor, choice(bank_tellers)))\n",
    "        sleep(randint(1,2))\n",
    "    print(\"Empty visitor queue.\")\n",
    "    \n",
    "def main():\n",
    "    visitor_queue = Queue()\n",
    "    register_visitors(visitor_queue)\n",
    "    service_customers(visitor_queue)"
   ]
  },
  {
   "cell_type": "code",
   "execution_count": 3,
   "id": "1fd7a3d9",
   "metadata": {},
   "outputs": [
    {
     "name": "stdout",
     "output_type": "stream",
     "text": [
      "Thank you for waiting a, station D is ready for you.\n",
      "Thank you for waiting b, station G is ready for you.\n",
      "Thank you for waiting c, station D is ready for you.\n",
      "Thank you for waiting d, station D is ready for you.\n",
      "Thank you for waiting e, station B is ready for you.\n",
      "Thank you for waiting f, station G is ready for you.\n",
      "Thank you for waiting g, station G is ready for you.\n",
      "Thank you for waiting h, station D is ready for you.\n",
      "Thank you for waiting i, station G is ready for you.\n",
      "Thank you for waiting j, station B is ready for you.\n",
      "Thank you for waiting k, station B is ready for you.\n",
      "Thank you for waiting l, station B is ready for you.\n",
      "Thank you for waiting m, station D is ready for you.\n",
      "Thank you for waiting n, station F is ready for you.\n",
      "Thank you for waiting o, station A is ready for you.\n",
      "Thank you for waiting p, station E is ready for you.\n",
      "Thank you for waiting q, station E is ready for you.\n",
      "Thank you for waiting r, station C is ready for you.\n",
      "Thank you for waiting s, station E is ready for you.\n",
      "Thank you for waiting t, station D is ready for you.\n",
      "Thank you for waiting u, station F is ready for you.\n",
      "Thank you for waiting v, station F is ready for you.\n",
      "Thank you for waiting w, station B is ready for you.\n",
      "Thank you for waiting x, station F is ready for you.\n",
      "Thank you for waiting y, station C is ready for you.\n",
      "Thank you for waiting z, station A is ready for you.\n",
      "Empty visitor queue.\n"
     ]
    }
   ],
   "source": [
    "main()"
   ]
  },
  {
   "cell_type": "code",
   "execution_count": 4,
   "id": "03502139",
   "metadata": {},
   "outputs": [],
   "source": [
    "def balance_check(s):\n",
    "    if len(s) % 2 != 0:\n",
    "        return False\n",
    "    opening = set('([{')\n",
    "    matches = set([\"(\", \")\"], [\"[\", \"]\"], [\"{\",\"}\"])\n",
    "    stack = Stack()\n",
    "    for paren in s:\n",
    "        if paren in opening:\n",
    "            stack.push(paren)\n",
    "        else:\n",
    "            if stack.is_empty():\n",
    "                return False\n",
    "            last_open = stack.pop()\n",
    "            if (last_open, paren) not in matches:\n",
    "                return False\n",
    "    return stack.is_empty()"
   ]
  },
  {
   "cell_type": "markdown",
   "id": "ce455b56",
   "metadata": {},
   "source": [
    "balance_check(\"()\")"
   ]
  },
  {
   "cell_type": "code",
   "execution_count": null,
   "id": "74264c5c",
   "metadata": {},
   "outputs": [],
   "source": [
    "class Queue2Stacks:\n",
    "    def __init__(self):\n",
    "        # Two stacks\n",
    "        self.stack1 = []\n",
    "        self.stack2 = []\n",
    "        \n",
    "    def enqueue(self, element):\n",
    "        #CODE HERE\n",
    "        pass\n",
    "    def dequeue(self):\n",
    "        #CODE HERE\n",
    "        pass\n",
    "    \n",
    "def test(): \n",
    "    \"\"\"this should print: 0,1,2,3,4\n",
    "    Note: It will print vertically\"\"\"\n",
    "    q = Queue2Stacks()\n",
    "    for i in range(5):\n",
    "        q.enqueue(i)\n",
    "    for i in range(5):\n",
    "        print(q.dequeue())"
   ]
  }
 ],
 "metadata": {
  "kernelspec": {
   "display_name": "Python 3 (ipykernel)",
   "language": "python",
   "name": "python3"
  },
  "language_info": {
   "codemirror_mode": {
    "name": "ipython",
    "version": 3
   },
   "file_extension": ".py",
   "mimetype": "text/x-python",
   "name": "python",
   "nbconvert_exporter": "python",
   "pygments_lexer": "ipython3",
   "version": "3.8.10"
  }
 },
 "nbformat": 4,
 "nbformat_minor": 5
}
